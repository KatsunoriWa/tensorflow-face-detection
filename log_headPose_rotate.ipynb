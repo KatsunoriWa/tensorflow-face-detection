{
 "cells": [
  {
   "cell_type": "markdown",
   "metadata": {},
   "source": [
    "# Head Pose Image Database\n",
    "\n",
    "http://www-prima.inrialpes.fr/perso/Gourier/Faces/HPDatabase.html"
   ]
  },
  {
   "cell_type": "markdown",
   "metadata": {},
   "source": [
    "## このデータベースを利用する目的：\n",
    "\n",
    "さまざまな顔の向きで顔を検出できるかどうかを評価する。\n",
    "\n",
    "各pitch, yaw の組み合わせに対して、３０枚の画像があり、\n",
    "顔向きごとの検出率を評価できる。\n",
    "\n",
    "## 評価上の注意点：\n",
    "\n",
    "- 背景がフラットな画像になっているので、背景が込み入っている時の検出率を評価できない。\n",
    "- 被験者が欧米人に偏っている。\n",
    "- 照明条件の多様性がない。\n",
    "- 表情の変化が少ない（口を開けたりはしていない）\n"
   ]
  },
  {
   "cell_type": "markdown",
   "metadata": {
    "collapsed": true
   },
   "source": [
    "顔検出が面内回転に対してどれくらい頑強かを評価する。\n",
    "\n",
    "データベースによっては既に目位置を正規化してあり、\n",
    "面内回転を加えたデータで評価してはじめて、実際環境での顔検出能力を評価できる。\n",
    "\n",
    "そこで、このスクリプトでは、データに面内回転を加えた画像を作って\n",
    "検出率を評価している。\n"
   ]
  },
  {
   "cell_type": "code",
   "execution_count": 1,
   "metadata": {
    "collapsed": true
   },
   "outputs": [],
   "source": [
    "%matplotlib inline\n",
    "import pandas as pd\n",
    "import os\n",
    "def getAngles(p):\n",
    "    base = os.path.basename(p)\n",
    "    base = os.path.splitext(base)[0]\n",
    "    base = base.replace(\"+\", \"_+\").replace(\"-\", \"_-\")\n",
    "    f = base.split(\"_\")\n",
    "    return f[-2:]\n",
    "    \n",
    "\n"
   ]
  },
  {
   "cell_type": "code",
   "execution_count": 2,
   "metadata": {
    "collapsed": true
   },
   "outputs": [],
   "source": [
    "import resnet_ssd_face_python_file\n",
    "import glob\n",
    "dataset = \"headPose\"\n",
    "names = glob.glob(\"headPose/Person*/*.jpg\")\n",
    "degs=(-45, -40, -35, -30, -25, -20, -15, -10, -5, 0, 5, 10, 15, 20, 25, 30, 35, 40, 45)"
   ]
  },
  {
   "cell_type": "code",
   "execution_count": 3,
   "metadata": {},
   "outputs": [
    {
     "ename": "error",
     "evalue": "OpenCV(3.4.1-dev) /home/papa/Downloads/freeEvenComercial/opencv/modules/dnn/src/caffe/caffe_io.cpp:1121: error: (-2) Unspecified error: FAILED: fs.is_open(). Can't open \"face_detector/deploy.prototxt\" in function ReadProtoFromTextFile\n",
     "output_type": "error",
     "traceback": [
      "\u001b[0;31m---------------------------------------------------------------------------\u001b[0m",
      "\u001b[0;31merror\u001b[0m                                     Traceback (most recent call last)",
      "\u001b[0;32m<ipython-input-3-d042e8ca5c13>\u001b[0m in \u001b[0;36m<module>\u001b[0;34m()\u001b[0m\n\u001b[1;32m      1\u001b[0m \u001b[0mnames\u001b[0m\u001b[0;34m.\u001b[0m\u001b[0msort\u001b[0m\u001b[0;34m(\u001b[0m\u001b[0;34m)\u001b[0m\u001b[0;34m\u001b[0m\u001b[0m\n\u001b[1;32m      2\u001b[0m \u001b[0;32mfor\u001b[0m \u001b[0mdeg\u001b[0m \u001b[0;32min\u001b[0m \u001b[0mdegs\u001b[0m\u001b[0;34m:\u001b[0m\u001b[0;34m\u001b[0m\u001b[0m\n\u001b[0;32m----> 3\u001b[0;31m     \u001b[0mresnet_ssd_face_python_file\u001b[0m\u001b[0;34m.\u001b[0m\u001b[0mprocessDatabase\u001b[0m\u001b[0;34m(\u001b[0m\u001b[0mdataset\u001b[0m\u001b[0;34m,\u001b[0m \u001b[0mnames\u001b[0m\u001b[0;34m,\u001b[0m \u001b[0mdeg\u001b[0m\u001b[0;34m)\u001b[0m\u001b[0;34m\u001b[0m\u001b[0m\n\u001b[0m",
      "\u001b[0;32m/home/papa/Downloads/freeEvenComercial/tensorflow-face-detection/resnet_ssd_face_python_file.pyc\u001b[0m in \u001b[0;36mprocessDatabase\u001b[0;34m(dataset, names, deg, showImg)\u001b[0m\n\u001b[1;32m     50\u001b[0m     \u001b[0mlog\u001b[0m\u001b[0;34m.\u001b[0m\u001b[0mwrite\u001b[0m\u001b[0;34m(\u001b[0m\u001b[0;34m\"name,num,truePositives,falsePositives\\n\"\u001b[0m\u001b[0;34m)\u001b[0m\u001b[0;34m\u001b[0m\u001b[0m\n\u001b[1;32m     51\u001b[0m \u001b[0;34m\u001b[0m\u001b[0m\n\u001b[0;32m---> 52\u001b[0;31m     \u001b[0mdetector\u001b[0m \u001b[0;34m=\u001b[0m \u001b[0mresnet_ssd_face\u001b[0m\u001b[0;34m.\u001b[0m\u001b[0mResnetFaceDetector\u001b[0m\u001b[0;34m(\u001b[0m\u001b[0;34m)\u001b[0m\u001b[0;34m\u001b[0m\u001b[0m\n\u001b[0m\u001b[1;32m     53\u001b[0m \u001b[0;34m\u001b[0m\u001b[0m\n\u001b[1;32m     54\u001b[0m     \u001b[0mconfThreshold\u001b[0m \u001b[0;34m=\u001b[0m \u001b[0;36m0.5\u001b[0m\u001b[0;34m\u001b[0m\u001b[0m\n",
      "\u001b[0;32m/home/papa/Downloads/freeEvenComercial/tensorflow-face-detection/resnet_ssd_face.pyc\u001b[0m in \u001b[0;36m__init__\u001b[0;34m(self)\u001b[0m\n\u001b[1;32m     15\u001b[0m         \u001b[0mself\u001b[0m\u001b[0;34m.\u001b[0m\u001b[0minWidth\u001b[0m \u001b[0;34m=\u001b[0m \u001b[0;36m300\u001b[0m\u001b[0;34m\u001b[0m\u001b[0m\n\u001b[1;32m     16\u001b[0m         \u001b[0mself\u001b[0m\u001b[0;34m.\u001b[0m\u001b[0minHeight\u001b[0m \u001b[0;34m=\u001b[0m \u001b[0;36m300\u001b[0m\u001b[0;34m\u001b[0m\u001b[0m\n\u001b[0;32m---> 17\u001b[0;31m         \u001b[0mself\u001b[0m\u001b[0;34m.\u001b[0m\u001b[0mnet\u001b[0m \u001b[0;34m=\u001b[0m \u001b[0mdnn\u001b[0m\u001b[0;34m.\u001b[0m\u001b[0mreadNetFromCaffe\u001b[0m\u001b[0;34m(\u001b[0m\u001b[0mprototxt\u001b[0m\u001b[0;34m,\u001b[0m \u001b[0mcaffemodel\u001b[0m\u001b[0;34m)\u001b[0m\u001b[0;34m\u001b[0m\u001b[0m\n\u001b[0m\u001b[1;32m     18\u001b[0m \u001b[0;34m\u001b[0m\u001b[0m\n\u001b[1;32m     19\u001b[0m     \u001b[0;32mdef\u001b[0m \u001b[0mrun\u001b[0m\u001b[0;34m(\u001b[0m\u001b[0mself\u001b[0m\u001b[0;34m,\u001b[0m \u001b[0mimage\u001b[0m\u001b[0;34m)\u001b[0m\u001b[0;34m:\u001b[0m\u001b[0;34m\u001b[0m\u001b[0m\n",
      "\u001b[0;31merror\u001b[0m: OpenCV(3.4.1-dev) /home/papa/Downloads/freeEvenComercial/opencv/modules/dnn/src/caffe/caffe_io.cpp:1121: error: (-2) Unspecified error: FAILED: fs.is_open(). Can't open \"face_detector/deploy.prototxt\" in function ReadProtoFromTextFile\n"
     ]
    }
   ],
   "source": [
    "names.sort()\n",
    "for deg in degs:\n",
    "    resnet_ssd_face_python_file.processDatabase(dataset, names, deg)"
   ]
  },
  {
   "cell_type": "markdown",
   "metadata": {
    "collapsed": true
   },
   "source": [
    "# headPose dataset の検出処理後のデータ解析"
   ]
  },
  {
   "cell_type": "code",
   "execution_count": null,
   "metadata": {},
   "outputs": [],
   "source": [
    "dfs={}\n",
    "for deg in degs:\n",
    "    dfs[deg] = pd.read_csv(\"log_headPose_%d.csv\" % deg)\n",
    "    print deg, dfs[deg][\"truePositives\"].mean()"
   ]
  },
  {
   "cell_type": "code",
   "execution_count": null,
   "metadata": {
    "collapsed": true
   },
   "outputs": [],
   "source": [
    "rates = [dfs[deg][\"truePositives\"].mean() for deg in degs]\n",
    "falseRates = [dfs[deg][\"falsePositives\"].mean() for deg in degs]\n",
    "data = {\"degs\":degs, \"rates\":rates, \"falseRates\":falseRates}\n",
    "df = pd.DataFrame(data, columns=[\"degs\", \"rates\", \"falseRates\"])"
   ]
  },
  {
   "cell_type": "code",
   "execution_count": null,
   "metadata": {},
   "outputs": [],
   "source": [
    "df.plot(x=\"degs\", y=\"rates\", grid=True)"
   ]
  },
  {
   "cell_type": "code",
   "execution_count": null,
   "metadata": {},
   "outputs": [],
   "source": [
    "df.plot(x=\"degs\", y=\"falseRates\", grid=True)"
   ]
  },
  {
   "cell_type": "code",
   "execution_count": null,
   "metadata": {
    "collapsed": true
   },
   "outputs": [],
   "source": []
  }
 ],
 "metadata": {
  "kernelspec": {
   "display_name": "Python 2",
   "language": "python",
   "name": "python2"
  }
 },
 "nbformat": 4,
 "nbformat_minor": 2
}
