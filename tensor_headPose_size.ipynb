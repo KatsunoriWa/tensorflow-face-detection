{
 "cells": [
  {
   "cell_type": "markdown",
   "metadata": {},
   "source": [
    "# Head Pose Image Database\n",
    "\n",
    "http://www-prima.inrialpes.fr/perso/Gourier/Faces/HPDatabase.html"
   ]
  },
  {
   "cell_type": "markdown",
   "metadata": {},
   "source": [
    "## このデータベースを利用する目的：\n",
    "\n",
    "さまざまな顔の向きで顔を検出できるかどうかを評価する。\n",
    "\n",
    "各pitch, yaw の組み合わせに対して、３０枚の画像があり、\n",
    "顔向きごとの検出率を評価できる。\n",
    "\n",
    "## 評価上の注意点：\n",
    "\n",
    "- 背景がフラットな画像になっているので、背景が込み入っている時の検出率を評価できない。\n",
    "- 被験者が欧米人に偏っている。\n",
    "- 照明条件の多様性がない。\n",
    "- 表情の変化が少ない（口を開けたりはしていない）\n"
   ]
  },
  {
   "cell_type": "markdown",
   "metadata": {
    "collapsed": true
   },
   "source": [
    "顔検出が面内回転に対してどれくらい頑強かを評価する。\n",
    "\n",
    "データベースによっては既に目位置を正規化してあり、\n",
    "面内回転を加えたデータで評価してはじめて、実際環境での顔検出能力を評価できる。\n",
    "\n",
    "そこで、このスクリプトでは、データに面内回転を加えた画像を作って\n",
    "検出率を評価している。\n"
   ]
  },
  {
   "cell_type": "code",
   "execution_count": 5,
   "metadata": {
    "collapsed": true
   },
   "outputs": [],
   "source": [
    "%matplotlib inline\n",
    "import pandas as pd\n",
    "import os"
   ]
  },
  {
   "cell_type": "code",
   "execution_count": 19,
   "metadata": {},
   "outputs": [],
   "source": [
    "\n",
    "import glob\n",
    "dataset = \"headPose\"\n",
    "names = glob.glob(\"headPose/Person*/*.jpg\")\n",
    "names.sort()\n",
    "\n",
    "\n",
    "scales = [1.0, 0.9, 0.8, 0.7, 0.6, 0.5, 0.4, 0.3, 0.2, 0.1]\n"
   ]
  },
  {
   "cell_type": "code",
   "execution_count": 20,
   "metadata": {
    "collapsed": true
   },
   "outputs": [],
   "source": [
    "# names = names[:50]\n",
    "\n",
    "scales = scales[:3]"
   ]
  },
  {
   "cell_type": "code",
   "execution_count": 21,
   "metadata": {},
   "outputs": [],
   "source": [
    "import tfFaceDetector as faceDetector\n",
    "for scale in scales:\n",
    "    faceDetector.processDatabase(dataset, names, scale=scale)"
   ]
  },
  {
   "cell_type": "markdown",
   "metadata": {
    "collapsed": true
   },
   "source": [
    "# headPose dataset の検出処理後のデータ解析"
   ]
  },
  {
   "cell_type": "code",
   "execution_count": 22,
   "metadata": {},
   "outputs": [
    {
     "name": "stdout",
     "output_type": "stream",
     "text": [
      "1.0 0.8458781362007168\n",
      "0.9 0.8681003584229391\n",
      "0.8 0.8985663082437276\n"
     ]
    }
   ],
   "source": [
    "dfs={}\n",
    "deg = 0\n",
    "for scale in scales:\n",
    "    dfs[scale] = pd.read_csv(\"log_%s_%d_%f.csv\" % (dataset, deg, scale))\n",
    "    print scale, dfs[scale][\"truePositives\"].mean()"
   ]
  },
  {
   "cell_type": "code",
   "execution_count": null,
   "metadata": {
    "collapsed": true
   },
   "outputs": [],
   "source": []
  },
  {
   "cell_type": "code",
   "execution_count": null,
   "metadata": {
    "collapsed": true
   },
   "outputs": [],
   "source": [
    "rates = [dfs[scale][\"truePositives\"].mean() for scale in scales]\n",
    "falseRates = [dfs[scale][\"falsePositives\"].mean() for scale in scales]\n",
    "data = {\"scales\":scales, \"rates\":rates, \"falseRates\":falseRates}\n",
    "df = pd.DataFrame(data, columns=[\"scales\", \"rates\", \"falseRates\"])"
   ]
  },
  {
   "cell_type": "code",
   "execution_count": 18,
   "metadata": {},
   "outputs": [
    {
     "data": {
      "text/plain": [
       "<matplotlib.axes._subplots.AxesSubplot at 0x7f94f4068210>"
      ]
     },
     "execution_count": 18,
     "metadata": {},
     "output_type": "execute_result"
    },
    {
     "data": {
      "image/png": "[encoded data removed]",
      "text/plain": [
       "<matplotlib.figure.Figure at 0x7f955d600d10>"
      ]
     },
     "metadata": {},
     "output_type": "display_data"
    }
   ],
   "source": [
    "df.plot(x=\"scales\", y=\"rates\", grid=True)"
   ]
  },
  {
   "cell_type": "code",
   "execution_count": 12,
   "metadata": {},
   "outputs": [
    {
     "data": {
      "text/plain": [
       "<matplotlib.axes._subplots.AxesSubplot at 0x7f955d618350>"
      ]
     },
     "execution_count": 12,
     "metadata": {},
     "output_type": "execute_result"
    },
    {
     "data": {
      "image/png": "[encoded data removed]",
      "text/plain": [
       "<matplotlib.figure.Figure at 0x7f955d6050d0>"
      ]
     },
     "metadata": {},
     "output_type": "display_data"
    }
   ],
   "source": [
    "df.plot(x=\"scales\", y=\"falseRates\", grid=True)"
   ]
  },
  {
   "cell_type": "code",
   "execution_count": null,
   "metadata": {
    "collapsed": true
   },
   "outputs": [],
   "source": []
  },
  {
   "cell_type": "code",
   "execution_count": null,
   "metadata": {
    "collapsed": true
   },
   "outputs": [],
   "source": []
  },
  {
   "cell_type": "code",
   "execution_count": null,
   "metadata": {
    "collapsed": true
   },
   "outputs": [],
   "source": []
  },
  {
   "cell_type": "code",
   "execution_count": null,
   "metadata": {
    "collapsed": true
   },
   "outputs": [],
   "source": []
  },
  {
   "cell_type": "code",
   "execution_count": null,
   "metadata": {
    "collapsed": true
   },
   "outputs": [],
   "source": []
  },
  {
   "cell_type": "code",
   "execution_count": null,
   "metadata": {
    "collapsed": true
   },
   "outputs": [],
   "source": []
  },
  {
   "cell_type": "code",
   "execution_count": null,
   "metadata": {
    "collapsed": true
   },
   "outputs": [],
   "source": []
  },
  {
   "cell_type": "code",
   "execution_count": null,
   "metadata": {
    "collapsed": true
   },
   "outputs": [],
   "source": []
  },
  {
   "cell_type": "code",
   "execution_count": null,
   "metadata": {
    "collapsed": true
   },
   "outputs": [],
   "source": []
  },
  {
   "cell_type": "code",
   "execution_count": null,
   "metadata": {
    "collapsed": true
   },
   "outputs": [],
   "source": []
  },
  {
   "cell_type": "code",
   "execution_count": null,
   "metadata": {
    "collapsed": true
   },
   "outputs": [],
   "source": []
  },
  {
   "cell_type": "code",
   "execution_count": null,
   "metadata": {
    "collapsed": true
   },
   "outputs": [],
   "source": []
  }
 ],
 "metadata": {
  "kernelspec": {
   "display_name": "Python 2",
   "language": "python",
   "name": "python2"
  },
  "language_info": {
   "codemirror_mode": {
    "name": "ipython",
    "version": 2
   },
   "file_extension": ".py",
   "mimetype": "text/x-python",
   "name": "python",
   "nbconvert_exporter": "python",
   "pygments_lexer": "ipython2",
   "version": "2.7.12"
  }
 },
 "nbformat": 4,
 "nbformat_minor": 2
}
